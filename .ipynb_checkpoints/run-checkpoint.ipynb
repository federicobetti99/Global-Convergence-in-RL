{
 "cells": [
  {
   "cell_type": "code",
   "execution_count": 1,
   "id": "ed309fb4",
   "metadata": {},
   "outputs": [],
   "source": [
    "from RL_cliff.environment import *\n",
    "from RL_cliff.learning_algorithm import *\n",
    "import pickle"
   ]
  },
  {
   "cell_type": "code",
   "execution_count": null,
   "id": "a3d36565",
   "metadata": {},
   "outputs": [],
   "source": [
    "train = False\n",
    "load = not train"
   ]
  },
  {
   "cell_type": "code",
   "execution_count": null,
   "id": "19fabe0d",
   "metadata": {},
   "outputs": [],
   "source": [
    "if train:\n",
    "    env = Cliff()\n",
    "    num_avg = 10\n",
    "    stats = {\"SCRN\": {}, \"SPG\": {}}\n",
    "    for i in range(num_avg):\n",
    "        np.random.seed = i\n",
    "        print(f\"========== TRAINING RUN {i} OUT OF {num_avg} ===========\")\n",
    "        print(\"********** TRAINING WITH SCRN **********\")\n",
    "        stats_SCRN = discrete_SCRN(env, num_episodes=3000)\n",
    "        stats[\"SCRN\"].update({i: stats_SCRN})\n",
    "        print(\"********** TRAINING WITH SPG ********\")\n",
    "        stats_DPG = discrete_policy_gradient(env, num_episodes=3000)\n",
    "        stats[\"SPG\"].update({i: stats_DPG})\n",
    "    average_stats = {\"SCRN\": {}, \"SPG\": {}}\n",
    "    average_stats[\"SCRN\"] = {key: np.median([stats[\"SCRN\"][i][key] for i in range(num_avg)], axis=0)\n",
    "                         for key in [\"steps\", \"rewards\", \"objectives\", \"gradients\", \"optimum\", \"history_probs\"]}\n",
    "    average_stats[\"SPG\"] = {key: np.median([stats[\"SPG\"][i][key] for i in range(num_avg)], axis=0)\n",
    "                         for key in [\"steps\", \"rewards\", \"objectives\", \"gradients\", \"optimum\", \"history_probs\"]} \n",
    "    with open(\"results.pkl\", \"wb\") as handle:\n",
    "        pickle.dump(average_stats, handle, protocol=pickle.HIGHEST_PROTOCOL)\n",
    "else:\n",
    "    with open(\"results.pkl\", \"rb\") as f:\n",
    "        average_stats = pickle.load(f)"
   ]
  },
  {
   "cell_type": "code",
   "execution_count": null,
   "id": "ad50512b",
   "metadata": {},
   "outputs": [],
   "source": [
    "show_SCRN = True\n",
    "show_SPG = True"
   ]
  },
  {
   "cell_type": "code",
   "execution_count": null,
   "id": "a4d5fff5",
   "metadata": {},
   "outputs": [],
   "source": [
    "plt.rcParams.update(plt.rcParamsDefault)\n",
    "plt.figure()\n",
    "plt.figure(figsize=(6, 4))\n",
    "if show_SCRN:\n",
    "    plt.plot(average_stats[\"SCRN\"][\"gradients\"], label=\"SCRN\")\n",
    "if show_SPG:\n",
    "    plt.plot(average_stats[\"SPG\"][\"gradients\"], label=\"SPG\")\n",
    "plt.ylabel(r\"$\\vert \\vert \\nabla J(\\theta) \\vert \\vert$\")\n",
    "plt.xlabel(\"Episodes\")\n",
    "plt.legend(loc=\"best\")\n",
    "plt.show()"
   ]
  },
  {
   "cell_type": "code",
   "execution_count": null,
   "id": "72df81e6",
   "metadata": {},
   "outputs": [],
   "source": [
    "plt.figure()\n",
    "if show_SCRN:\n",
    "    plt.plot((average_stats[\"SCRN\"][\"optimum\"]-average_stats[\"SCRN\"][\"objectives\"])/average_stats[\"SCRN\"][\"gradients\"], label=\"SCRN\")\n",
    "if show_SPG:\n",
    "    plt.plot((average_stats[\"SPG\"][\"optimum\"]-average_stats[\"SPG\"][\"objectives\"])/average_stats[\"SPG\"][\"gradients\"], label=\"SPG\")\n",
    "plt.legend(loc=\"best\")\n",
    "plt.xlabel(\"Episodes\")\n",
    "plt.ylabel(r\"$\\frac{J(\\theta^{*}) - J(\\theta)}{\\vert \\vert \\nabla J(\\theta) \\vert \\vert}$\")\n",
    "plt.show()"
   ]
  },
  {
   "cell_type": "code",
   "execution_count": null,
   "id": "9c5812f8",
   "metadata": {},
   "outputs": [],
   "source": [
    "plt.figure()\n",
    "if show_SCRN:\n",
    "    plt.plot(average_stats[\"SCRN\"][\"optimum\"] - average_stats[\"SCRN\"][\"objectives\"], label=\"SCRN\")\n",
    "if show_SPG:\n",
    "    plt.plot(average_stats[\"SPG\"][\"optimum\"] - average_stats[\"SPG\"][\"objectives\"], label=\"SPG\")\n",
    "plt.legend(loc=\"best\")\n",
    "plt.xlabel(\"Episodes\")\n",
    "plt.ylabel(r\"$J(\\theta^{*}) - J(\\theta)$\")\n",
    "plt.show()"
   ]
  },
  {
   "cell_type": "code",
   "execution_count": null,
   "id": "a360ecae",
   "metadata": {},
   "outputs": [],
   "source": [
    "plt.figure()\n",
    "if show_SCRN:\n",
    "    plt.plot(average_stats[\"SCRN\"][\"rewards\"], label=\"SCRN\")\n",
    "if show_SPG:\n",
    "    plt.plot(average_stats[\"SPG\"][\"rewards\"], label=\"SPG\")\n",
    "plt.legend(loc=\"best\")\n",
    "plt.xlabel(\"Episodes\")\n",
    "plt.ylabel(\"Rewards during training\")\n",
    "plt.show()"
   ]
  },
  {
   "cell_type": "code",
   "execution_count": null,
   "id": "31b97e23",
   "metadata": {},
   "outputs": [],
   "source": [
    "def compare_probabilities_learned(average_stats, state, save_link):\n",
    "    \"\"\"\n",
    "    Compare probabilities learned during training\n",
    "    \"\"\"\n",
    "\n",
    "    fig, ax = plt.subplots(1, 2, tight_layout=True, figsize=(12, 5))\n",
    "    fig.subplots_adjust(top=0.9, left=0.1, right=0.9, bottom=0.12)\n",
    "    \n",
    "    fig.suptitle(f\"Probabilities for state {state}\")\n",
    "    \n",
    "    length = average_stats[\"SPG\"][\"history_probs\"].shape[0]\n",
    "    \n",
    "    ax[0].plot([average_stats[\"SPG\"][\"history_probs\"][j][state, 0] for j in range(length)], label=\"SPG - P(up)\")\n",
    "    ax[0].plot([average_stats[\"SPG\"][\"history_probs\"][j][state, 1] for j in range(length)], label=\"SPG - P(down)\")\n",
    "\n",
    "    ax[1].plot([average_stats[\"SCRN\"][\"history_probs\"][j][state, 0] for j in range(length)], label=\"SCRN - P(up)\")\n",
    "    ax[1].plot([average_stats[\"SCRN\"][\"history_probs\"][j][state, 1] for j in range(length)], label=\"SCRN - P(down)\")\n",
    "\n",
    "    ax[0].plot([average_stats[\"SPG\"][\"history_probs\"][j][state, 2] for j in range(length)], label=\"SPG - P(left)\")\n",
    "    ax[0].plot([average_stats[\"SPG\"][\"history_probs\"][j][state, 3] for j in range(length)], label=\"SPG - P(right)\")\n",
    "\n",
    "    ax[1].plot([average_stats[\"SCRN\"][\"history_probs\"][j][state, 2] for j in range(length)], label=\"SCRN - P(left)\")\n",
    "    ax[1].plot([average_stats[\"SCRN\"][\"history_probs\"][j][state, 3] for j in range(length)], label=\"SCRN - P(right)\")\n",
    "\n",
    "    ax[0].legend(loc=\"best\")\n",
    "    ax[1].legend(loc=\"best\")\n",
    "\n",
    "    ax[0].set_ylabel(r\"$\\pi_{\\theta} (\\cdot \\vert s)$\", fontsize=20)\n",
    "    ax[0].set_xlabel(\"Episode\", fontsize=20)\n",
    "\n",
    "    ax[1].set_ylabel(r\"$\\pi_{\\theta} (\\cdot \\vert s)$\", fontsize=20)\n",
    "    ax[1].set_xlabel(\"Episode\", fontsize=20)\n",
    "\n",
    "    ax[0].set_yticks(np.linspace(0, 1, 6), fontsize=15)\n",
    "    ax[0].set_xticks(np.linspace(0, length, 6), fontsize=15)\n",
    "    ax[1].set_yticks(np.linspace(0, 1, 6), fontsize=15)\n",
    "    ax[1].set_xticks(np.linspace(0, length, 6), fontsize=15)\n",
    "    \n",
    "    plt.savefig(save_link)\n",
    "    plt.show()\n",
    "    \n",
    "    return fig, ax"
   ]
  },
  {
   "cell_type": "code",
   "execution_count": null,
   "id": "1c621a92",
   "metadata": {
    "scrolled": false
   },
   "outputs": [],
   "source": [
    "for j in range(37):\n",
    "    compare_probabilities_learned(average_stats, j, f\"figures/comparison/probabilities_{j}.png\")"
   ]
  },
  {
   "cell_type": "code",
   "execution_count": null,
   "id": "59eaecc9",
   "metadata": {},
   "outputs": [],
   "source": [
    "env = Cliff()\n",
    "stats = discrete_SCRN(env, num_episodes=10000)"
   ]
  },
  {
   "cell_type": "code",
   "execution_count": null,
   "id": "c8beee97",
   "metadata": {},
   "outputs": [],
   "source": [
    "plt.figure(figsize=(10, 5))\n",
    "plt.plot(stats[\"optimum\"]-np.array(stats[\"estimates\"][\"objectives\"]), label=r\"$J(\\theta^*)-J(\\theta)$\")\n",
    "plt.yticks(fontsize=15)\n",
    "plt.xticks(fontsize=15)\n",
    "plt.legend(loc=\"best\", fontsize=20)\n",
    "plt.show()"
   ]
  },
  {
   "cell_type": "code",
   "execution_count": null,
   "id": "51485e82",
   "metadata": {},
   "outputs": [],
   "source": [
    "plt.figure()\n",
    "plt.plot((stats[\"optimum\"]-np.array(stats[\"estimates\"][\"objectives\"]))/stats[\"estimates\"][\"gradients\"], label=\"SCRN\")\n",
    "plt.legend(loc=\"best\")\n",
    "plt.xlabel(\"Episodes\")\n",
    "plt.ylabel(r\"$\\frac{J(\\theta^{*}) - J(\\theta)}{\\vert \\vert \\nabla J(\\theta) \\vert \\vert}$\")\n",
    "plt.show()"
   ]
  },
  {
   "cell_type": "code",
   "execution_count": null,
   "id": "68b957ef",
   "metadata": {},
   "outputs": [],
   "source": [
    "stats[\"estimates\"][\"sample_traj\"]"
   ]
  },
  {
   "cell_type": "code",
   "execution_count": 2,
   "id": "b8c67479",
   "metadata": {},
   "outputs": [
    {
     "data": {
      "image/png": "[encoded data removed]",
      "text/plain": [
       "<Figure size 432x288 with 1 Axes>"
      ]
     },
     "metadata": {
      "needs_background": "light"
     },
     "output_type": "display_data"
    }
   ],
   "source": [
    "state_traj = [36, 24, 12, 0, 1, 2, 3, 4, 5, 6, 7, 8, 9, 21, 22, 23, 35, 47]\n",
    "show_trajectory(Cliff(), state_traj)"
   ]
  },
  {
   "cell_type": "code",
   "execution_count": null,
   "id": "b3185b96",
   "metadata": {},
   "outputs": [],
   "source": []
  }
 ],
 "metadata": {
  "kernelspec": {
   "display_name": "CS456",
   "language": "python",
   "name": "cs456"
  },
  "language_info": {
   "codemirror_mode": {
    "name": "ipython",
    "version": 3
   },
   "file_extension": ".py",
   "mimetype": "text/x-python",
   "name": "python",
   "nbconvert_exporter": "python",
   "pygments_lexer": "ipython3",
   "version": "3.7.11"
  }
 },
 "nbformat": 4,
 "nbformat_minor": 5
}

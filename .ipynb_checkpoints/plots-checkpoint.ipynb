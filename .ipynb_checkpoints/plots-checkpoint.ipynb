{
 "cells": [
  {
   "cell_type": "markdown",
   "id": "19f1364f",
   "metadata": {},
   "source": [
    "### Notebook for results visualization"
   ]
  },
  {
   "cell_type": "markdown",
   "id": "440d9a27",
   "metadata": {},
   "source": [
    "Selecting the environment in the cell below will produce the plots of all the quantities of interest for a selected environment. This is done by loading directly the results from the dictionary stored in the results folder. Hence, for the correct working of the cells below, please §make sure that the corresponding pickle file is actually present in the latter."
   ]
  },
  {
   "cell_type": "code",
   "execution_count": null,
   "id": "e99534c8",
   "metadata": {
    "scrolled": true
   },
   "outputs": [],
   "source": [
    "import pickle\n",
    "from utils.utils import *\n",
    "import matplotlib.pyplot as plt\n",
    "%load_ext autoreload\n",
    "%autoreload 2\n",
    "%reload_ext autoreload"
   ]
  },
  {
   "cell_type": "code",
   "execution_count": null,
   "id": "ba7d4a90",
   "metadata": {},
   "outputs": [],
   "source": [
    "environment = \"cliff\"  # any environment in \"cliff\", \"hole\", \"random_maze\" or \"umaze\"\n",
    "\n",
    "# load dictionary\n",
    "with open(f\"results/{environment}_results.pkl\", \"rb\") as handle:\n",
    "    env_stats = pickle.load(handle)\n",
    "    \n",
    "# get average stats and standard deviations\n",
    "avg_stats = env_stats[\"avg\"]\n",
    "std_stats = env_stats[\"std\"]\n",
    "\n",
    "# define used values during testing\n",
    "test_freq = 50\n",
    "num_episodes = 10000"
   ]
  },
  {
   "cell_type": "markdown",
   "id": "0e3f719b",
   "metadata": {},
   "source": [
    "Running the cell below produces all the plots of interest for a comparison between different algorithms on the selected environment and for the testing of the validity of a PL condition:"
   ]
  },
  {
   "cell_type": "code",
   "execution_count": null,
   "id": "b1779a73",
   "metadata": {
    "scrolled": false
   },
   "outputs": [],
   "source": [
    "plot_stats(avg_stats, std_stats, num_episodes, test_freq)"
   ]
  }
 ],
 "metadata": {
  "kernelspec": {
   "display_name": "RL",
   "language": "python",
   "name": "rl"
  },
  "language_info": {
   "codemirror_mode": {
    "name": "ipython",
    "version": 3
   },
   "file_extension": ".py",
   "mimetype": "text/x-python",
   "name": "python",
   "nbconvert_exporter": "python",
   "pygments_lexer": "ipython3",
   "version": "3.10.4"
  }
 },
 "nbformat": 4,
 "nbformat_minor": 5
}

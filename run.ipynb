{
 "cells": [
  {
   "cell_type": "markdown",
   "id": "19f1364f",
   "metadata": {},
   "source": [
    "### Please set the environment"
   ]
  },
  {
   "cell_type": "code",
   "execution_count": 1,
   "id": "e99534c8",
   "metadata": {},
   "outputs": [],
   "source": [
    "environment = \"taxi\" # among random maze, cliff or taxi\n",
    "\n",
    "if environment == \"taxi\":\n",
    "    from taxi.training_utils import *\n",
    "    from taxi.learning_algorithms import *\n",
    "    env = gym.make(\"Taxi-v3\")\n",
    "if environment == \"maze\":\n",
    "    from mazes.training_utils import *\n",
    "    from mazes.learning_algorithms import *\n",
    "    from environment.random_maze import *\n",
    "    gym.envs.register(id=env_id, entry_point=RandomMaze, max_episode_steps=200)\n",
    "    env = gym.make(env_id)\n",
    "    \n",
    "if environment == \"cliff\":\n",
    "    from mazes.training_utils import *\n",
    "    from mazes.learning_algorithms import *\n",
    "    from environments.cliff import *\n",
    "    gym.envs.register(id=env_id, entry_point=RandomCliff, max_episode_steps=200)\n",
    "    env = gym.make(env_id)\n",
    "\n",
    "import pickle\n",
    "\n",
    "# Load the autoreload extension\n",
    "%load_ext autoreload\n",
    "%autoreload 2"
   ]
  },
  {
   "cell_type": "code",
   "execution_count": 2,
   "id": "a3d36565",
   "metadata": {
    "scrolled": true
   },
   "outputs": [],
   "source": [
    "train = True\n",
    "load = not train\n",
    "\n",
    "test_freq=50\n",
    "num_episodes=2000"
   ]
  },
  {
   "cell_type": "code",
   "execution_count": 3,
   "id": "19fabe0d",
   "metadata": {
    "scrolled": true
   },
   "outputs": [
    {
     "name": "stdout",
     "output_type": "stream",
     "text": [
      "========== TRAINING RUN 0 OUT OF 1 ===========\n",
      "********** TRAINING WITH SCRN **********\n",
      "====== Testing the current policy ======\n",
      "==== Testing episode 0 ====\n",
      "==== Testing episode 1 ====\n",
      "==== Testing episode 2 ====\n",
      "==== Testing episode 3 ====\n",
      "==== Testing episode 4 ====\n",
      "==== Testing episode 5 ====\n",
      "==== Testing episode 6 ====\n",
      "==== Testing episode 7 ====\n",
      "==== Testing episode 8 ====\n",
      "==== Testing episode 9 ====\n",
      "==== Testing episode 10 ====\n",
      "==== Testing episode 11 ====\n",
      "==== Testing episode 12 ====\n",
      "==== Testing episode 13 ====\n",
      "==== Testing episode 14 ====\n",
      "==== Testing episode 15 ====\n",
      "==== Testing episode 16 ====\n",
      "==== Testing episode 17 ====\n",
      "==== Testing episode 18 ====\n",
      "==== Testing episode 19 ====\n",
      "==== Testing episode 20 ====\n",
      "==== Testing episode 21 ====\n",
      "==== Testing episode 22 ====\n",
      "==== Testing episode 23 ====\n",
      "==== Testing episode 24 ====\n",
      "==== Testing episode 25 ====\n",
      "==== Testing episode 26 ====\n",
      "==== Testing episode 27 ====\n",
      "==== Testing episode 28 ====\n",
      "==== Testing episode 29 ====\n",
      "==== Testing episode 30 ====\n",
      "==== Testing episode 31 ====\n",
      "==== Testing episode 32 ====\n",
      "==== Testing episode 33 ====\n",
      "==== Testing episode 34 ====\n",
      "==== Testing episode 35 ====\n",
      "==== Testing episode 36 ====\n",
      "==== Testing episode 37 ====\n",
      "==== Testing episode 38 ====\n",
      "==== Testing episode 39 ====\n",
      "==== Testing episode 40 ====\n",
      "==== Testing episode 41 ====\n",
      "==== Testing episode 42 ====\n",
      "==== Testing episode 43 ====\n",
      "==== Testing episode 44 ====\n",
      "==== Testing episode 45 ====\n",
      "==== Testing episode 46 ====\n",
      "==== Testing episode 47 ====\n",
      "==== Testing episode 48 ====\n",
      "==== Testing episode 49 ====\n",
      "1 :  5203.0\n",
      "2 :  1673.0\n",
      "3 :  418.0\n",
      "4 :  273.0\n",
      "5 :  1133.0\n",
      "6 :  982.0\n",
      "7 :  2456.0\n",
      "8 :  1168.0\n",
      "9 :  358.0\n",
      "10 :  406.0\n",
      "11 :  2327.0\n",
      "12 :  675.0\n",
      "13 :  1123.0\n",
      "14 :  2620.0\n",
      "15 :  3831.0\n",
      "16 :  278.0\n",
      "17 :  263.0\n",
      "18 :  211.0\n",
      "19 :  704.0\n",
      "20 :  2646.0\n",
      "21 :  704.0\n",
      "22 :  6915.0\n",
      "23 :  1902.0\n",
      "24 :  138.0\n",
      "25 :  3372.0\n",
      "26 :  442.0\n"
     ]
    },
    {
     "ename": "KeyboardInterrupt",
     "evalue": "",
     "output_type": "error",
     "traceback": [
      "\u001b[1;31m---------------------------------------------------------------------------\u001b[0m",
      "\u001b[1;31mKeyboardInterrupt\u001b[0m                         Traceback (most recent call last)",
      "Input \u001b[1;32mIn [3]\u001b[0m, in \u001b[0;36m<cell line: 1>\u001b[1;34m()\u001b[0m\n\u001b[0;32m      5\u001b[0m \u001b[38;5;28mprint\u001b[39m(\u001b[38;5;124mf\u001b[39m\u001b[38;5;124m\"\u001b[39m\u001b[38;5;124m========== TRAINING RUN \u001b[39m\u001b[38;5;132;01m{\u001b[39;00mi\u001b[38;5;132;01m}\u001b[39;00m\u001b[38;5;124m OUT OF \u001b[39m\u001b[38;5;132;01m{\u001b[39;00mnum_avg\u001b[38;5;132;01m}\u001b[39;00m\u001b[38;5;124m ===========\u001b[39m\u001b[38;5;124m\"\u001b[39m)\n\u001b[0;32m      6\u001b[0m \u001b[38;5;28mprint\u001b[39m(\u001b[38;5;124m\"\u001b[39m\u001b[38;5;124m********** TRAINING WITH SCRN **********\u001b[39m\u001b[38;5;124m\"\u001b[39m)\n\u001b[1;32m----> 7\u001b[0m stats_SCRN \u001b[38;5;241m=\u001b[39m \u001b[43mdiscrete_SCRN\u001b[49m\u001b[43m(\u001b[49m\u001b[43menv\u001b[49m\u001b[43m,\u001b[49m\u001b[43m \u001b[49m\u001b[43mnum_episodes\u001b[49m\u001b[38;5;241;43m=\u001b[39;49m\u001b[43mnum_episodes\u001b[49m\u001b[43m,\u001b[49m\u001b[43m \u001b[49m\u001b[43mtest_freq\u001b[49m\u001b[38;5;241;43m=\u001b[39;49m\u001b[43mtest_freq\u001b[49m\u001b[43m)\u001b[49m\n\u001b[0;32m      8\u001b[0m stats[\u001b[38;5;124m\"\u001b[39m\u001b[38;5;124mSCRN\u001b[39m\u001b[38;5;124m\"\u001b[39m]\u001b[38;5;241m.\u001b[39mupdate({i: stats_SCRN})\n\u001b[0;32m      9\u001b[0m \u001b[38;5;28mprint\u001b[39m(\u001b[38;5;124m\"\u001b[39m\u001b[38;5;124m********** TRAINING WITH SPG ********\u001b[39m\u001b[38;5;124m\"\u001b[39m)\n",
      "File \u001b[1;32m~\\Documents\\GitHub\\Global-Convergence-in-RL\\taxi\\learning_algorithms.py:102\u001b[0m, in \u001b[0;36mdiscrete_SCRN\u001b[1;34m(env, num_episodes, alpha, gamma, batch_size, SGD, period, test_freq, step_cache, reward_cache, env_cache, name_cache)\u001b[0m\n\u001b[0;32m    100\u001b[0m \u001b[38;5;66;03m# Computing objective, grad and Hessian for the current trajectory\u001b[39;00m\n\u001b[0;32m    101\u001b[0m obj_traj \u001b[38;5;241m=\u001b[39m objective_trajectory(reward_trajectory, gamma)\n\u001b[1;32m--> 102\u001b[0m grad_traj, grad_collection_traj \u001b[38;5;241m=\u001b[39m \u001b[43mgrad_trajectory\u001b[49m\u001b[43m(\u001b[49m\u001b[43mstate_trajectory\u001b[49m\u001b[43m,\u001b[49m\u001b[43m \u001b[49m\u001b[43maction_trajectory\u001b[49m\u001b[43m,\u001b[49m\n\u001b[0;32m    103\u001b[0m \u001b[43m                                                  \u001b[49m\u001b[43mprobs_trajectory\u001b[49m\u001b[43m,\u001b[49m\u001b[43m \u001b[49m\u001b[43mreward_trajectory\u001b[49m\u001b[43m,\u001b[49m\u001b[43m \u001b[49m\u001b[43mgamma\u001b[49m\u001b[43m)\u001b[49m\n\u001b[0;32m    104\u001b[0m Hessian_traj \u001b[38;5;241m=\u001b[39m Hessian_trajectory(state_trajectory, action_trajectory, reward_trajectory, grad_traj,\n\u001b[0;32m    105\u001b[0m                                   grad_collection_traj, gamma, theta)\n\u001b[0;32m    106\u001b[0m obj \u001b[38;5;241m=\u001b[39m obj \u001b[38;5;241m+\u001b[39m obj_traj \u001b[38;5;241m/\u001b[39m batch_size\n",
      "File \u001b[1;32m~\\Documents\\GitHub\\Global-Convergence-in-RL\\taxi\\training_utils.py:228\u001b[0m, in \u001b[0;36mgrad_trajectory\u001b[1;34m(state_trajectory, action_trajectory, probs_trajectory, reward_trajectory, gamma)\u001b[0m\n\u001b[0;32m    226\u001b[0m \u001b[38;5;28;01mfor\u001b[39;00m t \u001b[38;5;129;01min\u001b[39;00m \u001b[38;5;28mrange\u001b[39m(\u001b[38;5;28mlen\u001b[39m(reward_trajectory)):\n\u001b[0;32m    227\u001b[0m     cum_reward \u001b[38;5;241m=\u001b[39m compute_cum_rewards(gamma, t, reward_trajectory)\n\u001b[1;32m--> 228\u001b[0m     grad[state_trajectory[t], :] \u001b[38;5;241m=\u001b[39m grad[state_trajectory[t], :] \u001b[38;5;241m+\u001b[39m cum_reward \u001b[38;5;241m*\u001b[39m grad_collection[t]\n\u001b[0;32m    229\u001b[0m grad \u001b[38;5;241m=\u001b[39m np\u001b[38;5;241m.\u001b[39mreshape(grad, (\u001b[38;5;241m1\u001b[39m, ACTION_DIM \u001b[38;5;241m*\u001b[39m STATE_DIM))\n\u001b[0;32m    230\u001b[0m \u001b[38;5;28;01mreturn\u001b[39;00m grad, grad_collection\n",
      "\u001b[1;31mKeyboardInterrupt\u001b[0m: "
     ]
    }
   ],
   "source": [
    "if train:\n",
    "    num_avg = 1\n",
    "    stats = {\"SCRN\": {}, \"SPG\": {}, \"SPG Entropy\": {}}\n",
    "    for i in range(num_avg):\n",
    "        print(f\"========== TRAINING RUN {i} OUT OF {num_avg} ===========\")\n",
    "        print(\"********** TRAINING WITH SCRN **********\")\n",
    "        stats_SCRN = discrete_SCRN(env, num_episodes=num_episodes, test_freq=test_freq)\n",
    "        stats[\"SCRN\"].update({i: stats_SCRN})\n",
    "        print(\"********** TRAINING WITH SPG ********\")\n",
    "        stats_DPG = discrete_policy_gradient(env, num_episodes=num_episodes, test_freq=test_freq)\n",
    "        stats[\"SPG\"].update({i: stats_DPG})\n",
    "        print(\"********** TRAINING WITH regularized SPG ********\")\n",
    "        stats_DPG = discrete_policy_gradient(env, entropy_bonus=True, num_episodes=num_episodes, test_freq=test_freq)\n",
    "        stats[\"SPG Entropy\"].update({i: stats_DPG})\n",
    "else:\n",
    "    with open(\"results.pkl\", \"rb\") as f:\n",
    "        average_stats = pickle.load(f)"
   ]
  },
  {
   "cell_type": "code",
   "execution_count": null,
   "id": "738f7ffa",
   "metadata": {},
   "outputs": [],
   "source": [
    "average_stats = {\"SCRN\": {}, \"SPG\": {}, \"SPG Entropy\": {}}\n",
    "std_stats = {\"SCRN\": {}, \"SPG\": {}, \"SPG Entropy\": {}}\n",
    "average_stats[\"SCRN\"] = {key: np.median([stats[\"SCRN\"][i][key] for i in range(num_avg)], axis=0)\n",
    "                         for key in [\"good_policy\", \"taus\", \"steps\", \"rewards\", \"optimum\", \"history_probs\"]}\n",
    "average_stats[\"SPG\"] = {key: np.median([stats[\"SPG\"][i][key] for i in range(num_avg)], axis=0)\n",
    "                         for key in [\"good_policy\", \"taus\", \"steps\", \"rewards\", \"optimum\", \"history_probs\"]}\n",
    "average_stats[\"SPG Entropy\"] = {key: np.median([stats[\"SPG Entropy\"][i][key] for i in range(num_avg)], axis=0)\n",
    "                         for key in [\"good_policy\", \"taus\", \"steps\", \"rewards\", \"optimum\", \"history_probs\"]}\n",
    "std_stats[\"SCRN\"] = {key: np.std([stats[\"SCRN\"][i][key] for i in range(num_avg)], axis=0) / np.sqrt(num_avg)\n",
    "                         for key in [\"taus\", \"steps\", \"rewards\"]}\n",
    "std_stats[\"SPG\"] = {key: np.median([stats[\"SPG\"][i][key] for i in range(num_avg)], axis=0) / np.sqrt(num_avg)\n",
    "                         for key in [\"taus\", \"steps\", \"rewards\"]}\n",
    "std_stats[\"SPG Entropy\"] = {key: np.median([stats[\"SPG Entropy\"][i][key] for i in range(num_avg)], axis=0) / np.sqrt(num_avg)\n",
    "                         for key in [\"taus\", \"steps\", \"rewards\"]}"
   ]
  },
  {
   "cell_type": "code",
   "execution_count": null,
   "id": "ad50512b",
   "metadata": {},
   "outputs": [],
   "source": [
    "show_SCRN = True\n",
    "show_SPG = True\n",
    "\n",
    "for key in average_stats.keys():\n",
    "    print(key, average_stats[key][\"good_policy\"])"
   ]
  },
  {
   "cell_type": "code",
   "execution_count": null,
   "id": "ce5b8183",
   "metadata": {},
   "outputs": [],
   "source": [
    "plt.rcParams.update(plt.rcParamsDefault)\n",
    "plt.figure()\n",
    "plt.figure(figsize=(6, 4))\n",
    "plt.plot(average_stats[\"SCRN\"][\"steps\"], label=\"SCRN\")\n",
    "plt.plot(average_stats[\"SPG\"][\"steps\"], label=\"SPG\")\n",
    "plt.plot(average_stats[\"SPG Entropy\"][\"steps\"], label=\"SPG Entropy\")\n",
    "plt.ylabel(r\"Steps needed\")\n",
    "plt.xlabel(\"Episodes\")\n",
    "plt.legend(loc=\"best\")\n",
    "plt.show()"
   ]
  },
  {
   "cell_type": "code",
   "execution_count": null,
   "id": "72df81e6",
   "metadata": {},
   "outputs": [],
   "source": [
    "plt.figure()\n",
    "QOI_SCRN = average_stats[\"SCRN\"][\"taus\"]\n",
    "STD_SCRN = std_stats[\"SCRN\"][\"taus\"]\n",
    "QOI_SPG = average_stats[\"SPG\"][\"taus\"]\n",
    "STD_SPG = std_stats[\"SPG\"][\"taus\"]\n",
    "QOI_ESPG = average_stats[\"SPG Entropy\"][\"taus\"]\n",
    "STD_ESPG = std_stats[\"SPG Entropy\"][\"taus\"]\n",
    "plt.plot(np.arange(0, num_episodes, step=test_freq), QOI_SCRN, label=\"SCRN\")\n",
    "plt.fill_between(np.arange(0, num_episodes, step=test_freq), QOI_SCRN-STD_SCRN, QOI_SCRN+STD_SCRN, alpha=0.3)\n",
    "plt.plot(np.arange(0, num_episodes, step=test_freq), QOI_SPG, label=\"SPG\")\n",
    "plt.fill_between(np.arange(0, num_episodes, step=test_freq), QOI_SPG-STD_SPG, QOI_SPG+STD_SPG, alpha=0.3)\n",
    "plt.plot(np.arange(0, num_episodes, step=test_freq), QOI_ESPG, label=\"SPG Entropy\")\n",
    "plt.fill_between(np.arange(0, num_episodes, step=test_freq), QOI_ESPG-STD_ESPG, QOI_ESPG+STD_ESPG, alpha=0.3)\n",
    "plt.legend(loc=\"best\")\n",
    "plt.xlabel(\"Testing policy episodes\")\n",
    "plt.ylabel(r\"$\\frac{J(\\theta^{*}) - J(\\theta)}{\\vert \\vert \\nabla J(\\theta) \\vert \\vert}$\")\n",
    "plt.show()"
   ]
  },
  {
   "cell_type": "code",
   "execution_count": null,
   "id": "a360ecae",
   "metadata": {},
   "outputs": [],
   "source": [
    "plt.figure()\n",
    "plt.plot(average_stats[\"SCRN\"][\"rewards\"], label=\"SCRN\")\n",
    "plt.plot(average_stats[\"SPG\"][\"rewards\"], label=\"SPG\")\n",
    "plt.plot(average_stats[\"SPG Entropy\"][\"rewards\"], label=\"SPG Entropy\")\n",
    "plt.legend(loc=\"best\")\n",
    "plt.xlabel(\"Episodes\")\n",
    "plt.ylabel(\"Rewards during training\")\n",
    "plt.show()"
   ]
  }
 ],
 "metadata": {
  "kernelspec": {
   "display_name": "RL",
   "language": "python",
   "name": "rl"
  },
  "language_info": {
   "codemirror_mode": {
    "name": "ipython",
    "version": 3
   },
   "file_extension": ".py",
   "mimetype": "text/x-python",
   "name": "python",
   "nbconvert_exporter": "python",
   "pygments_lexer": "ipython3",
   "version": "3.10.4"
  }
 },
 "nbformat": 4,
 "nbformat_minor": 5
}

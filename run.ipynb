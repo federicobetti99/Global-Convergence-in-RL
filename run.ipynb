{
 "cells": [
  {
   "cell_type": "markdown",
   "id": "19f1364f",
   "metadata": {},
   "source": [
    "### Please set the environment"
   ]
  },
  {
   "cell_type": "markdown",
   "id": "440d9a27",
   "metadata": {},
   "source": [
    "Selecting the environment in the cell below will produce the plots of all the quantities of interest for a selected environment. This is done by loading directly the results from the dictionary stored in the results folder accessible in the repository."
   ]
  },
  {
   "cell_type": "code",
   "execution_count": null,
   "id": "e99534c8",
   "metadata": {
    "scrolled": false
   },
   "outputs": [],
   "source": [
    "import pickle\n",
    "from utils.utils import *\n",
    "import matplotlib.pyplot as plt\n",
    "\n",
    "environment = \"random_maze\"\n",
    "\n",
    "with open(f\"results/{environment}_results.pkl\", \"rb\") as handle:\n",
    "    env_stats = pickle.load(handle)\n",
    "    \n",
    "avg_stats = env_stats[\"avg\"]\n",
    "std_stats = env_stats[\"std\"]\n",
    "\n",
    "test_freq = 50\n",
    "num_episodes = 10000\n",
    "\n",
    "plot_stats(avg_stats, std_stats, num_episodes, test_freq)"
   ]
  },
  {
   "cell_type": "code",
   "execution_count": 17,
   "id": "650b0e97",
   "metadata": {
    "scrolled": true
   },
   "outputs": [
    {
     "name": "stdout",
     "output_type": "stream",
     "text": [
      "==== Goal reached in 10 steps ====\n"
     ]
    },
    {
     "name": "stderr",
     "output_type": "stream",
     "text": [
      "C:\\Users\\Federico Betti\\AppData\\Local\\Temp\\ipykernel_38284\\1560880291.py:20: DeprecationWarning: Starting with ImageIO v3 the behavior of this function will switch to that of iio.v3.imread. To keep the current behavior (and make this warning dissapear) use `import imageio.v2 as imageio` or call `imageio.v2.imread` directly.\n",
      "  images.append(imageio.imread(file_path + f\"{i}.png\"))\n"
     ]
    }
   ],
   "source": [
    "import pickle\n",
    "from utils.utils import *\n",
    "import matplotlib.pyplot as plt\n",
    "\n",
    "environment = \"hole\"\n",
    "\n",
    "with open(f\"results/{environment}_results.pkl\", \"rb\") as handle:\n",
    "    env_stats = pickle.load(handle)\n",
    "    \n",
    "avg_stats = env_stats[\"avg\"]\n",
    "std_stats = env_stats[\"std\"]\n",
    "\n",
    "algo = \"SCRN\"\n",
    "theta = avg_stats[algo][\"thetas\"][-1]\n",
    "count = final_trajectory(environment, theta)\n",
    "\n",
    "images = []\n",
    "file_path = f\"figures/trajectories/{environment}/\"\n",
    "for i in range(count):\n",
    "    images.append(imageio.imread(file_path + f\"{i}.png\"))\n",
    "\n",
    "imageio.mimsave(file_path + f'{algo}.gif', images)"
   ]
  },
  {
   "cell_type": "code",
   "execution_count": null,
   "id": "96b919d0",
   "metadata": {},
   "outputs": [],
   "source": []
  }
 ],
 "metadata": {
  "kernelspec": {
   "display_name": "RL",
   "language": "python",
   "name": "rl"
  },
  "language_info": {
   "codemirror_mode": {
    "name": "ipython",
    "version": 3
   },
   "file_extension": ".py",
   "mimetype": "text/x-python",
   "name": "python",
   "nbconvert_exporter": "python",
   "pygments_lexer": "ipython3",
   "version": "3.10.4"
  }
 },
 "nbformat": 4,
 "nbformat_minor": 5
}
